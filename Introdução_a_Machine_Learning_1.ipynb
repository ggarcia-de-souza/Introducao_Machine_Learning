{
  "nbformat": 4,
  "nbformat_minor": 0,
  "metadata": {
    "colab": {
      "provenance": [],
      "authorship_tag": "ABX9TyNkC/klDtX6Gm9+pi+00u1C",
      "include_colab_link": true
    },
    "kernelspec": {
      "name": "python3",
      "display_name": "Python 3"
    },
    "language_info": {
      "name": "python"
    }
  },
  "cells": [
    {
      "cell_type": "markdown",
      "metadata": {
        "id": "view-in-github",
        "colab_type": "text"
      },
      "source": [
        "<a href=\"https://colab.research.google.com/github/ggarcia-de-souza/Introducao_Machine_Learning/blob/main/Introdu%C3%A7%C3%A3o_a_Machine_Learning_1.ipynb\" target=\"_parent\"><img src=\"https://colab.research.google.com/assets/colab-badge.svg\" alt=\"Open In Colab\"/></a>"
      ]
    },
    {
      "cell_type": "code",
      "execution_count": null,
      "metadata": {
        "id": "DP842Oax6dNq"
      },
      "outputs": [],
      "source": [
        "#features | 1 = sim | 2 = não\n",
        "#pelo longo? perna curta? faz au au?\n",
        "\n",
        "porco1 = [0, 1, 0]\n",
        "porco2 = [0, 1, 1]\n",
        "porco3 = [1, 1, 0]\n",
        "\n",
        "cachorro1 = [0, 1, 1]\n",
        "cachorro2 = [1, 0, 1]\n",
        "cachorro3 = [1, 1, 1]\n",
        "\n",
        "# 1 => porco | 0 => cachorro\n",
        "treino_x = [porco1, porco2, porco3, cachorro1, cachorro2, cachorro3]\n",
        "# classes = [1,1,1,0,0,0]\n",
        "treino_y = [\"porco\",\"porco\",\"porco\",\"cachorro\",\"cachorro\",\"cachorro\"] # labels / etiqueta"
      ]
    },
    {
      "cell_type": "code",
      "source": [
        "from sklearn.svm import LinearSVC\n",
        "\n",
        "model = LinearSVC()\n",
        "\n",
        "model.fit(treino_x, treino_y)"
      ],
      "metadata": {
        "colab": {
          "base_uri": "https://localhost:8080/"
        },
        "id": "pw0xF2vH6k1Z",
        "outputId": "fe124343-f232-41c9-c41b-e6b3f585a8e0"
      },
      "execution_count": null,
      "outputs": [
        {
          "output_type": "execute_result",
          "data": {
            "text/plain": [
              "LinearSVC()"
            ]
          },
          "metadata": {},
          "execution_count": 2
        }
      ]
    },
    {
      "cell_type": "code",
      "source": [
        "animal_misterioso = [1,1,1] # cachorro\n",
        "animal_misterioso2 = [0,0,0] # porco\n",
        "animal_misterioso3 = [0,1,1] # porco\n",
        "animal_misterioso4 = [1,1,0] # porco\n",
        "\n",
        "teste_x = [animal_misterioso, animal_misterioso2, animal_misterioso3, animal_misterioso4]\n",
        "teste_y = [\"cachorro\", \"porco\", \"porco\", \"porco\"]\n",
        "\n"
      ],
      "metadata": {
        "id": "Lr1m87Sd-T8h"
      },
      "execution_count": null,
      "outputs": []
    },
    {
      "cell_type": "code",
      "source": [
        "previsoes = model.predict(teste_x)\n",
        "\n",
        "model.predict(teste_x)\n",
        "\n",
        "# O resultado deve ser\n",
        "# [\"cachorro\", \"porco\", \"porco\", \"porco\"]\n",
        "# Mas a máquina errou 1 resultado\n",
        "# ['cachorro', 'porco', 'cachorro', 'porco']"
      ],
      "metadata": {
        "colab": {
          "base_uri": "https://localhost:8080/"
        },
        "id": "c3f5xjlD-8cg",
        "outputId": "5780476e-f24c-431f-fa1b-1995e389a1b2"
      },
      "execution_count": null,
      "outputs": [
        {
          "output_type": "execute_result",
          "data": {
            "text/plain": [
              "array(['cachorro', 'porco', 'cachorro', 'porco'], dtype='<U8')"
            ]
          },
          "metadata": {},
          "execution_count": 4
        }
      ]
    },
    {
      "cell_type": "code",
      "source": [
        "acertos = (previsoes == teste_y).sum()\n",
        "total = len(teste_x)\n",
        "total_acertos = ( acertos / total ) * 100 \n",
        "\n",
        "print(total_acertos)"
      ],
      "metadata": {
        "colab": {
          "base_uri": "https://localhost:8080/"
        },
        "id": "5psw5_BJC20J",
        "outputId": "17d0bea9-fb08-424d-df44-4b96d09cb8d3"
      },
      "execution_count": null,
      "outputs": [
        {
          "output_type": "stream",
          "name": "stdout",
          "text": [
            "75.0\n"
          ]
        }
      ]
    },
    {
      "cell_type": "code",
      "source": [
        "from sklearn.metrics import accuracy_score\n",
        "\n",
        "total_acertos = accuracy_score(teste_y, previsoes)\n",
        "\n",
        "print(total_acertos)"
      ],
      "metadata": {
        "colab": {
          "base_uri": "https://localhost:8080/"
        },
        "id": "rFmt3gJlDEHB",
        "outputId": "dbd39496-2c93-4bcc-cb2e-cb086d70bb82"
      },
      "execution_count": null,
      "outputs": [
        {
          "output_type": "stream",
          "name": "stdout",
          "text": [
            "0.75\n"
          ]
        }
      ]
    },
    {
      "cell_type": "code",
      "source": [],
      "metadata": {
        "id": "_F737qfnVtbB"
      },
      "execution_count": null,
      "outputs": []
    }
  ]
}